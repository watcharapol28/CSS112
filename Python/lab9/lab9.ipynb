{
 "cells": [
  {
   "cell_type": "code",
   "execution_count": 26,
   "metadata": {},
   "outputs": [
    {
     "name": "stdout",
     "output_type": "stream",
     "text": [
      "[[1 2 3]\n",
      " [4 5 6]\n",
      " [7 8 0]]\n"
     ]
    }
   ],
   "source": [
    "import numpy as np\n",
    "\n",
    "m = np.array([[1, 2, 3], [4, 5, 6], [7, 8, 9]])\n",
    "k = int(input())\n",
    "for i in range (len(m)):\n",
    "    for j in range(len(m[i])):\n",
    "        if int(i + 1) % k == 0 and int(j + 1) % k == 0:\n",
    "            m[i][j] = 0\n",
    "print(m)"
   ]
  },
  {
   "cell_type": "code",
   "execution_count": 27,
   "metadata": {},
   "outputs": [
    {
     "name": "stdout",
     "output_type": "stream",
     "text": [
      "[[ 1  2  3]\n",
      " [ 4  5  6]\n",
      " [ 7  8 18]]\n"
     ]
    }
   ],
   "source": [
    "import numpy as np\n",
    "\n",
    "m = np.array([[1, 2, 3], [4, 5, 6], [7, 8, 9]])\n",
    "k = int(input())\n",
    "for i in range (len(m)):\n",
    "    for j in range(len(m[i])):\n",
    "        if int(i + 1) % k == 0 and int(j + 1) % k == 0:\n",
    "            m[i][j] *= 2 \n",
    "print(m)"
   ]
  },
  {
   "cell_type": "code",
   "execution_count": 51,
   "metadata": {},
   "outputs": [
    {
     "name": "stdout",
     "output_type": "stream",
     "text": [
      "[4. 5.]\n"
     ]
    }
   ],
   "source": [
    "m = np.array([[3, 2], [5, 6], [7, 1]])\n",
    "#([[1, 2, 3], [4, 5, 6], [7, 8, 9]])\n",
    "lst = [[] for i in range(len(m[0]))]\n",
    "for i in range (len(m)):\n",
    "    for j in range(len(m[i])):\n",
    "        lst[j].append(m[i][j])\n",
    "m = np.empty(len(m[0]))\n",
    "for i in range(len(lst)):\n",
    "    m[i] = int(max(lst[i]) - min(lst[i]))\n",
    "print (m)"
   ]
  },
  {
   "cell_type": "code",
   "execution_count": 58,
   "metadata": {},
   "outputs": [
    {
     "name": "stdout",
     "output_type": "stream",
     "text": [
      "[ 5 13 25]\n"
     ]
    }
   ],
   "source": [
    "x = np.array([[3,4],[5,12],[24,7]])\n",
    "y = np.array([int((i[0]**2 + i[1]**2)**(1/2)) for i in x])\n",
    "print(y)"
   ]
  },
  {
   "cell_type": "code",
   "execution_count": 64,
   "metadata": {},
   "outputs": [
    {
     "name": "stdout",
     "output_type": "stream",
     "text": [
      "[[0 1 0 1 0 1 0]\n",
      " [1 0 1 0 1 0 1]\n",
      " [0 1 0 1 0 1 0]\n",
      " [1 0 1 0 1 0 1]\n",
      " [0 1 0 1 0 1 0]\n",
      " [1 0 1 0 1 0 1]\n",
      " [0 1 0 1 0 1 0]]\n"
     ]
    }
   ],
   "source": [
    "k = int(input())\n",
    "c = np.array([[(i+j)%2 for j in range(k)]for i in range(k)])\n",
    "print(c)"
   ]
  },
  {
   "cell_type": "code",
   "execution_count": 66,
   "metadata": {},
   "outputs": [
    {
     "name": "stdout",
     "output_type": "stream",
     "text": [
      "[[1 0 1 0 1]\n",
      " [0 2 0 2 0]\n",
      " [3 0 3 0 3]\n",
      " [0 4 0 4 0]\n",
      " [5 0 5 0 5]]\n"
     ]
    }
   ],
   "source": [
    "k = int(input())\n",
    "c = np.array([[i+1 if(i+j)%2==0 else 0 for j in range(k)]for i in range(k)])\n",
    "print(c)"
   ]
  },
  {
   "cell_type": "code",
   "execution_count": null,
   "metadata": {},
   "outputs": [],
   "source": []
  }
 ],
 "metadata": {
  "interpreter": {
   "hash": "3c6d63badd86ac8a6344bb24e15c0037fc98a0211c527a81a958ef049deed6a4"
  },
  "kernelspec": {
   "display_name": "Python 3.10.2 64-bit",
   "language": "python",
   "name": "python3"
  },
  "language_info": {
   "codemirror_mode": {
    "name": "ipython",
    "version": 3
   },
   "file_extension": ".py",
   "mimetype": "text/x-python",
   "name": "python",
   "nbconvert_exporter": "python",
   "pygments_lexer": "ipython3",
   "version": "3.9.7"
  },
  "orig_nbformat": 4
 },
 "nbformat": 4,
 "nbformat_minor": 2
}
